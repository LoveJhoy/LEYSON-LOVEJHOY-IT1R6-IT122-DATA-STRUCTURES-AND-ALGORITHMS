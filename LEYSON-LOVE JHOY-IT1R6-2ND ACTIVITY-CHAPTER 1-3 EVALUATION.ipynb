{
 "cells": [
  {
   "cell_type": "code",
   "execution_count": 32,
   "id": "antique-wyoming",
   "metadata": {},
   "outputs": [
    {
     "name": "stdout",
     "output_type": "stream",
     "text": [
      "\t\t\t\t\tChapter 1\t\t\t\n",
      "Discuss your learnings on Chapter 1  time-frame 8:00 - 30:35. Minimum of 200 characters\t\n"
     ]
    }
   ],
   "source": [
    "print(\"\\t\\t\\t\\t\\tChapter 1\\t\\t\\t\")\n",
    "print(\"Discuss your learnings on Chapter 1  time-frame 8:00 - 30:35. Minimum of 200 characters\\t\")"
   ]
  },
  {
   "cell_type": "code",
   "execution_count": 34,
   "id": "southwest-batman",
   "metadata": {},
   "outputs": [
    {
     "name": "stdout",
     "output_type": "stream",
     "text": [
      "The data structure have 3 characteristics that must be observed, these are the following: correctness, time complexity and space complexity.\n",
      "The correctness of the data structure refers to its ability to implement the interface accurately.In the video, sir Richard highlighted that\n",
      "time complexity is one of the very important things that a data structure should have, because time is important, the data structure should take\n",
      "atleast just a little bit of your time to run or executed. It is really frustrating if you are trying to look for something and yet the data take\n",
      "minutes to appear, that is very inefficient. Another important thing is the fact that a data structure should only take a little bit of your memory\n",
      "when it is operating, this characteristic is called space complexity. Space complexity should be considered when you are coding, especially when you\n",
      "are choosing the appropriate data type to use.As I have seen in the video, I have learned that there are 3 execution cases in order to compare data\n",
      "structure's different execution or running time. The first case is called the 'worst case' wherein the execution time of your data structure takes too\n",
      "long and is way past its expected execution time.The 'average case'happens when the execution time of the data structure was done within the expected \n",
      "running time.The third case is called 'best case'because the running time was shorter than the expected time which is great and surely efficient for\n",
      "users. I have realized that if we don't know how to structure data, the system would process slower and will have so many issues. Data search is one of\n",
      "the common problem in certain applications, because if the data gets bigger then it tends to execute slower than the average, which is the reason why\n",
      "searching of data takes a very long time, that's why we need to properly stucture the data. Another app problem is the limited speed of the processor\n",
      "due to the amount of data and of course the multiple request from the users which causes the server to fail. I have learned about the five applications\n",
      "of data structures and algorithms, these are the search,sort,insert,update and delete.Sir Richard taught us about the basic terminologies in chapter 1.\n",
      "I am already familiar to some of it just like how I already know that data is a set of values but I am happy to have understand the meaning of the terms\n",
      "that were greek to me like the term elementary items which refers to the group that cannot be divided.Another term is the attribute and entity to which\n",
      "an entity contains attributes that can be assigned values while the word field is a single elementary unit. I was able to took in some knowledge about the\n",
      "characteristics of an algorithm. An algorithm should be unambiguous which means the instructions given should be clear.It also should have 0 or more inputs\n",
      "and 1 or more outputs. The finiteness in algorithm means that it should terminate after the given number of steps. It should also be feasible and independent\n",
      "meaning the algorithm should not depend on any programming language. In writing an algorithm, it is very important to know the problem first so that you can\n",
      "make a step-by-step or design a solution to address it.\n"
     ]
    }
   ],
   "source": [
    "print(\"The data structure have 3 characteristics that must be observed, these are the following: correctness, time complexity and space complexity.\")\n",
    "print(\"The correctness of the data structure refers to its ability to implement the interface accurately.In the video, sir Richard highlighted that\")\n",
    "print(\"time complexity is one of the very important things that a data structure should have, because time is important, the data structure should take\")\n",
    "print(\"atleast just a little bit of your time to run or executed. It is really frustrating if you are trying to look for something and yet the data take\")\n",
    "print(\"minutes to appear, that is very inefficient. Another important thing is the fact that a data structure should only take a little bit of your memory\")\n",
    "print(\"when it is operating, this characteristic is called space complexity. Space complexity should be considered when you are coding, especially when you\")\n",
    "print(\"are choosing the appropriate data type to use.As I have seen in the video, I have learned that there are 3 execution cases in order to compare data\")\n",
    "print(\"structure's different execution or running time. The first case is called the 'worst case' wherein the execution time of your data structure takes too\")\n",
    "print(\"long and is way past its expected execution time.The 'average case'happens when the execution time of the data structure was done within the expected \")\n",
    "print(\"running time.The third case is called 'best case'because the running time was shorter than the expected time which is great and surely efficient for\")\n",
    "print(\"users. I have realized that if we don't know how to structure data, the system would process slower and will have so many issues. Data search is one of\")\n",
    "print(\"the common problem in certain applications, because if the data gets bigger then it tends to execute slower than the average, which is the reason why\")\n",
    "print(\"searching of data takes a very long time, that's why we need to properly stucture the data. Another app problem is the limited speed of the processor\")\n",
    "print(\"due to the amount of data and of course the multiple request from the users which causes the server to fail. I have learned about the five applications\")\n",
    "print(\"of data structures and algorithms, these are the search,sort,insert,update and delete.Sir Richard taught us about the basic terminologies in chapter 1.\")\n",
    "print(\"I am already familiar to some of it just like how I already know that data is a set of values but I am happy to have understand the meaning of the terms\")\n",
    "print(\"that were greek to me like the term elementary items which refers to the group that cannot be divided.Another term is the attribute and entity to which\")\n",
    "print(\"an entity contains attributes that can be assigned values while the word field is a single elementary unit. I was able to took in some knowledge about the\")\n",
    "print(\"characteristics of an algorithm. An algorithm should be unambiguous which means the instructions given should be clear.It also should have 0 or more inputs\")\n",
    "print(\"and 1 or more outputs. The finiteness in algorithm means that it should terminate after the given number of steps. It should also be feasible and independent\")\n",
    "print(\"meaning the algorithm should not depend on any programming language. In writing an algorithm, it is very important to know the problem first so that you can\")\n",
    "print(\"make a step-by-step or design a solution to address it.\")"
   ]
  },
  {
   "cell_type": "code",
   "execution_count": 1,
   "id": "boxed-module",
   "metadata": {},
   "outputs": [
    {
     "name": "stdout",
     "output_type": "stream",
     "text": [
      "\t\t\t\t\tChapter 1\t\t\t\n",
      "Discuss your learnings on Chapter 1  time-frame 35:00 - end. Minimum of 200 characters\n"
     ]
    }
   ],
   "source": [
    "print(\"\\t\\t\\t\\t\\tChapter 1\\t\\t\\t\")\n",
    "print(\"Discuss your learnings on Chapter 1  time-frame 35:00 - end. Minimum of 200 characters\")"
   ]
  },
  {
   "cell_type": "code",
   "execution_count": 15,
   "id": "abstract-norman",
   "metadata": {},
   "outputs": [
    {
     "name": "stdout",
     "output_type": "stream",
     "text": [
      "Algorithm analysis is done to know the efficiency of an algorithm.The video introduced me to the two types of algorithm analysis: the priori analysis and\n",
      "the posterior analysis. In priori analysis, the efficiency was measured without including other factors like processing speed in the process of analyzing\n",
      "because it is considered constant and has no effect on the implementation that is why it is also known as theoritical analysis. In the posterior analysis\n",
      "a programming language was used to implement the algorithm,in this analysis, space used and the running time was recorded. An algorithm is considered very\n",
      "efficient if it has been observed to have the two main factors,the time factor and the space factor. These two factors are what make up the complexity of \n",
      "an algorithm. Space complexity refers to the amount of memory space that is needed by the algorithm in its life cycle. The total amount of memory was of the\n",
      "fixed part which was a space that is used to store the data and the variables and of the variable part which was used by the variables whose size depends on\n",
      "how big the problem is. Si Richard remind us in the video that when you say fixed part, the size is fixed while the variable part has a dynamic memory usage.\n",
      "Time complexity is the term use to represent the total amount of runnning time that an algorithm need. At the end ofthe video, sir Richard gave us some tips\n",
      "on the applications to use in programming and I am very thankful for that.\n"
     ]
    }
   ],
   "source": [
    "print(\"Algorithm analysis is done to know the efficiency of an algorithm.The video introduced me to the two types of algorithm analysis: the priori analysis and\")\n",
    "print(\"the posterior analysis. In priori analysis, the efficiency was measured without including other factors like processing speed in the process of analyzing\")\n",
    "print(\"because it is considered constant and has no effect on the implementation that is why it is also known as theoritical analysis. In the posterior analysis\")\n",
    "print(\"a programming language was used to implement the algorithm,in this analysis, space used and the running time was recorded. An algorithm is considered very\")\n",
    "print(\"efficient if it has been observed to have the two main factors,the time factor and the space factor. These two factors are what make up the complexity of \")\n",
    "print(\"an algorithm. Space complexity refers to the amount of memory space that is needed by the algorithm in its life cycle. The total amount of memory was of the\")\n",
    "print(\"fixed part which was a space that is used to store the data and the variables and of the variable part which was used by the variables whose size depends on\")\n",
    "print(\"how big the problem is. Si Richard remind us in the video that when you say fixed part, the size is fixed while the variable part has a dynamic memory usage.\")\n",
    "print(\"Time complexity is the term use to represent the total amount of runnning time that an algorithm need. At the end ofthe video, sir Richard gave us some tips\")\n",
    "print(\"on the applications to use in programming and I am very thankful for that.\")"
   ]
  },
  {
   "cell_type": "code",
   "execution_count": 14,
   "id": "monetary-hearing",
   "metadata": {},
   "outputs": [
    {
     "name": "stdout",
     "output_type": "stream",
     "text": [
      "\t\t\t\t\tChapter 2\t\t\t\n",
      "Discuss your learnings on Chapter 2  time-frame 5:00 - 9:00. Minimum of 200 characters\n"
     ]
    }
   ],
   "source": [
    "print(\"\\t\\t\\t\\t\\tChapter 2\\t\\t\\t\")\n",
    "print(\"Discuss your learnings on Chapter 2  time-frame 5:00 - 9:00. Minimum of 200 characters\")"
   ]
  },
  {
   "cell_type": "code",
   "execution_count": 24,
   "id": "natural-brunei",
   "metadata": {},
   "outputs": [
    {
     "name": "stdout",
     "output_type": "stream",
     "text": [
      "Built-in data types are data type for which a programming language has built-in support. An example of built-in data types that most of the language provide\n",
      "are integers which are whole numbers, boolean data type which represents truth value, floating data type are decimal numbers. Moreover, character are those\n",
      "that stores strings of letters, numbers, and symbols while the string is a collection of one or more characters put in a single quote, double-quote or triple\n",
      "qoute.I have learned that derived data types are those data types that can be implemented in one way or the other. These are the list, array, stack and queue.\n",
      "They are also known as the combination of primary or built-in data type and its operations.Operations are used in order to process data in the data structure.\n",
      "One of the basic operations used is the transversing which means crossing of data from one place to another. The other basic operations are the searching, which\n",
      "means to search an item, insertion is when you insert an element at a certain index, deletion is when you delete a variable, sorting is when you arrange the \n",
      "elements in a ascending or descending order while merging is when you use divide and conquer in sorting. I am already familiar with these operations since we\n",
      "already tackled it in my computer programming subject\n"
     ]
    }
   ],
   "source": [
    "print(\"Built-in data types are data type for which a programming language has built-in support. An example of built-in data types that most of the language provide\")\n",
    "print(\"are integers which are whole numbers, boolean data type which represents truth value, floating data type are decimal numbers. Moreover, character are those\")\n",
    "print(\"that stores strings of letters, numbers, and symbols while the string is a collection of one or more characters put in a single quote, double-quote or triple\")\n",
    "print(\"qoute.I have learned that derived data types are those data types that can be implemented in one way or the other. These are the list, array, stack and queue.\") \n",
    "print(\"They are also known as the combination of primary or built-in data type and its operations.Operations are used in order to process data in the data structure.\")\n",
    "print(\"One of the basic operations used is the transversing which means crossing of data from one place to another. The other basic operations are the searching, which\")\n",
    "print(\"means to search an item, insertion is when you insert an element at a certain index, deletion is when you delete a variable, sorting is when you arrange the \")\n",
    "print(\"elements in a ascending or descending order while merging is when you use divide and conquer in sorting. I am already familiar with these operations since we\")\n",
    "print(\"already tackled it in my computer programming subject.\")"
   ]
  },
  {
   "cell_type": "code",
   "execution_count": 25,
   "id": "fallen-midnight",
   "metadata": {},
   "outputs": [
    {
     "name": "stdout",
     "output_type": "stream",
     "text": [
      "\t\t\t\t\tChapter 3\t\t\t\n",
      "Discuss your learnings on Chapter 3  time-frame 3:00 - 18:00. Minimum of 200 characters\n"
     ]
    }
   ],
   "source": [
    "print(\"\\t\\t\\t\\t\\tChapter 3\\t\\t\\t\")\n",
    "print(\"Discuss your learnings on Chapter 3  time-frame 3:00 - 18:00. Minimum of 200 characters\")"
   ]
  },
  {
   "cell_type": "code",
   "execution_count": 2,
   "id": "gorgeous-singapore",
   "metadata": {},
   "outputs": [
    {
     "name": "stdout",
     "output_type": "stream",
     "text": [
      "Arrays can be presented or declared in many ways in various languages. I have learned that  index starts at 0.In presenting array, you must put the data type\n",
      "the name and the size of the array. The elements inside the array can be accessed using its index. Transverse, insertion, deletion, search and update are the\n",
      "basic operations supported by an array.The transverse operations prints the elements one by one. I already know the other operations since it was taught in our\n",
      "computer programming subject, these operations deletes, inserts, searchs and updates element at a certain index. In making arrays in python, you must import the\n",
      "array module into the program so that you can declare an array. I have gained knowledge about the typecodes. These are codes that are used to know the type of\n",
      "value that the array will hold. There are seven typcodes that are commonly used,'b'represents a signed integer with 1 byte size,'B'is unsigned integer with the\n",
      "size as 'b', with also the same size, 'c'represents character, the 'i' is the representation of signed integer that has 2 bytes of size the same as the 'I'code\n",
      "the only difference is that it is used to represent the unsigned integer. The typecode 'f' represents the floating point of size 4 bytes meanwhile the 'd'code\n",
      "also represents floating point but of size 8 bytes. I am glad that sir Richard taught us on how to properly create an array. I am so happy to learn the basics of\n",
      "coding an array. The typcode to use really matters in creating it because you need to consider the sizes.\n"
     ]
    }
   ],
   "source": [
    "print(\"Arrays can be presented or declared in many ways in various languages. I have learned that  index starts at 0.In presenting array, you must put the data type\")\n",
    "print(\"the name and the size of the array. The elements inside the array can be accessed using its index. Transverse, insertion, deletion, search and update are the\")\n",
    "print(\"basic operations supported by an array.The transverse operations prints the elements one by one. I already know the other operations since it was taught in our\")\n",
    "print(\"computer programming subject, these operations deletes, inserts, searchs and updates element at a certain index. In making arrays in python, you must import the\")\n",
    "print(\"array module into the program so that you can declare an array. I have gained knowledge about the typecodes. These are codes that are used to know the type of\")\n",
    "print(\"value that the array will hold. There are seven typcodes that are commonly used,'b'represents a signed integer with 1 byte size,'B'is unsigned integer with the\")\n",
    "print(\"size as 'b', with also the same size, 'c'represents character, the 'i' is the representation of signed integer that has 2 bytes of size the same as the 'I'code\")\n",
    "print(\"the only difference is that it is used to represent the unsigned integer. The typecode 'f' represents the floating point of size 4 bytes meanwhile the 'd'code\")\n",
    "print(\"also represents floating point but of size 8 bytes. I am glad that sir Richard taught us on how to properly create an array. I am so happy to learn the basics of\")\n",
    "print(\"coding an array. The typcode to use really matters in creating it because you need to consider the sizes.\")"
   ]
  },
  {
   "cell_type": "code",
   "execution_count": 2,
   "id": "junior-chassis",
   "metadata": {},
   "outputs": [
    {
     "name": "stdout",
     "output_type": "stream",
     "text": [
      "Create your first array project.\n",
      "Notes:\n",
      "- Name your array as any array\n",
      "- select any type code\n",
      "- choose any array size and values\n",
      "- display array values\n"
     ]
    }
   ],
   "source": [
    "print(\"Create your first array project.\\nNotes:\\n- Name your array as any array\\n- select any type code\\n- choose any array size and values\\n- display array values\")"
   ]
  },
  {
   "cell_type": "code",
   "execution_count": 25,
   "id": "alone-republic",
   "metadata": {},
   "outputs": [
    {
     "name": "stdout",
     "output_type": "stream",
     "text": [
      "2\n",
      "4\n",
      "6\n",
      "8\n",
      "10\n",
      "12\n",
      "14\n",
      "16\n",
      "18\n",
      "20\n",
      "\n",
      "Index 2:  6\n",
      "2\n",
      "4\n",
      "6\n",
      "7\n",
      "8\n",
      "10\n",
      "12\n",
      "14\n",
      "16\n",
      "18\n",
      "20\n",
      "2\n",
      "4\n",
      "6\n",
      "8\n",
      "10\n",
      "12\n",
      "14\n",
      "16\n",
      "18\n",
      "20\n",
      "2\n",
      "4\n",
      "25\n",
      "8\n",
      "10\n",
      "12\n",
      "14\n",
      "16\n",
      "18\n",
      "20\n"
     ]
    }
   ],
   "source": [
    "from array import*\n",
    "Any_Array= array('b',[2,4,6,8,10,12,14,16,18,20])\n",
    "for x in Any_Array:\n",
    "    print(x)\n",
    "print('\\nIndex 2: ', Any_Array[2])\n",
    "\n",
    "Any_Array.insert(3,7)\n",
    "for x in Any_Array:\n",
    "    print(x)\n",
    "\n",
    "Any_Array.remove(7)\n",
    "for x in Any_Array:\n",
    "    print(x)\n",
    "\n",
    "Any_Array[2]=25\n",
    "for x in Any_Array:\n",
    "    print(x)"
   ]
  },
  {
   "cell_type": "code",
   "execution_count": null,
   "id": "hybrid-hospital",
   "metadata": {},
   "outputs": [],
   "source": []
  }
 ],
 "metadata": {
  "kernelspec": {
   "display_name": "Python 3",
   "language": "python",
   "name": "python3"
  },
  "language_info": {
   "codemirror_mode": {
    "name": "ipython",
    "version": 3
   },
   "file_extension": ".py",
   "mimetype": "text/x-python",
   "name": "python",
   "nbconvert_exporter": "python",
   "pygments_lexer": "ipython3",
   "version": "3.9.2"
  }
 },
 "nbformat": 4,
 "nbformat_minor": 5
}
