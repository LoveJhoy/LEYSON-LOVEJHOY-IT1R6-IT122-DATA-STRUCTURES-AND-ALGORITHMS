{
 "cells": [
  {
   "cell_type": "code",
   "execution_count": 15,
   "id": "thrown-conflict",
   "metadata": {},
   "outputs": [
    {
     "name": "stdout",
     "output_type": "stream",
     "text": [
      "I. Discuss your learnings on from Chapter 9 to Chapter 17\t\n"
     ]
    }
   ],
   "source": [
    "print(\"I. Discuss your learnings on from Chapter 9 to Chapter 17\\t\")"
   ]
  },
  {
   "cell_type": "code",
   "execution_count": 9,
   "id": "precious-knife",
   "metadata": {},
   "outputs": [
    {
     "name": "stdout",
     "output_type": "stream",
     "text": [
      "\t\t\t\t\tChapter 9\t\t\t\n",
      "\t\tDiscuss your learnings on Chapter 9. Minimum of 200 characters\t\n"
     ]
    }
   ],
   "source": [
    "print(\"\\t\\t\\t\\t\\tChapter 9\\t\\t\\t\")\n",
    "print(\"\\t\\tDiscuss your learnings on Chapter 9. Minimum of 200 characters\\t\")"
   ]
  },
  {
   "cell_type": "code",
   "execution_count": 15,
   "id": "ceramic-sentence",
   "metadata": {},
   "outputs": [
    {
     "name": "stdout",
     "output_type": "stream",
     "text": [
      "Chapter 9 tackles about graph data structure, be it indirected graph or directed graph. When you say indirect graph it means that there is no direction between\n",
      "two nodes. Meanwhile, the term direct graph means it has a route or a direction between two nodes.The youtuber gave an example about the indirected graph and\n",
      "directed graph. For indirected graph he shows how his facebook friends are connected to him and also connected to another social media friend. I have learned\n",
      "that just like the tree, it has individual entities called nodes, However, the lines connecting the entities are called edges.The example given is indirected\n",
      "because there is no sign of direction as the individual entities are connected to his facebook account thus giving the possibility for them to interconnect\n",
      "with each other. For the directed graph, He gave an example for a flight routes which basically has a direction as he put some destinations such as Paris, New\n",
      "York and etc. as individual entities and I understand how the flight routes can have many directions as it depends on the path you choose to take. It can be\n",
      "a short path for the flight or latter. I also learned that the edges in the graph can be weighted, it is called the weighted graph. In this graph, the edges\n",
      "were weighted by the distance between the two flight destinations.In this case, the shortest path to take is very obvious as  the distance was already given.\n",
      "Halfway through the video, I learned about how to code the graph. The vlogger demonstrated how to create a tuple and to use it to create a python class. He\n",
      "also did taught me in his youtube video on what to do in order to properly code the routes that are used in the directed graph, recursion and iteration was\n",
      "also applied.\n"
     ]
    }
   ],
   "source": [
    "print(\"Chapter 9 tackles about graph data structure, be it indirected graph or directed graph. When you say indirect graph it means that there is no direction between\")\n",
    "print(\"two nodes. Meanwhile, the term direct graph means it has a route or a direction between two nodes.The youtuber gave an example about the indirected graph and\")\n",
    "print(\"directed graph. For indirected graph he shows how his facebook friends are connected to him and also connected to another social media friend. I have learned\")\n",
    "print(\"that just like the tree, it has individual entities called nodes, However, the lines connecting the entities are called edges.The example given is indirected\")\n",
    "print(\"because there is no sign of direction as the individual entities are connected to his facebook account thus giving the possibility for them to interconnect\")\n",
    "print(\"with each other. For the directed graph, He gave an example for a flight routes which basically has a direction as he put some destinations such as Paris, New\")\n",
    "print(\"York and etc. as individual entities and I understand how the flight routes can have many directions as it depends on the path you choose to take. It can be\")\n",
    "print(\"a short path for the flight or latter. I also learned that the edges in the graph can be weighted, it is called the weighted graph. In this graph, the edges\")\n",
    "print(\"were weighted by the distance between the two flight destinations.In this case, the shortest path to take is very obvious as  the distance was already given.\")\n",
    "print(\"Halfway through the video, I learned about how to code the graph. The vlogger demonstrated how to create a tuple and to use it to create a python class. He\")\n",
    "print(\"also did taught me in his youtube video on what to do in order to properly code the routes that are used in the directed graph, recursion and iteration was\")\n",
    "print(\"also applied.\")"
   ]
  },
  {
   "cell_type": "code",
   "execution_count": 18,
   "id": "composite-illinois",
   "metadata": {},
   "outputs": [
    {
     "name": "stdout",
     "output_type": "stream",
     "text": [
      "\t\t\t\t\tChapter 10\t\t\t\n",
      "\t\tDiscuss your learnings on Chapter 10. Minimum of 200 characters\t\n"
     ]
    }
   ],
   "source": [
    "print(\"\\t\\t\\t\\t\\tChapter 10\\t\\t\\t\")\n",
    "print(\"\\t\\tDiscuss your learnings on Chapter 10. Minimum of 200 characters\\t\")"
   ]
  },
  {
   "cell_type": "code",
   "execution_count": 23,
   "id": "weekly-dance",
   "metadata": {},
   "outputs": [
    {
     "name": "stdout",
     "output_type": "stream",
     "text": [
      "The video was all about Binary search in which you take the middle index value of the hundreds or thousands of data and compare it to the number you are\n",
      "searching for, if it is less than or greater than the middle index value if its greater than the middle value then you eliminate the middle value including\n",
      "all the elements lesser than it, and then you find another middle index value and you compare and it goes on until you eliminate other values and reach the\n",
      "data value that you are searching for.The thing about binary search is that it is efficient as it takes few moments to search for a certain data or transaction\n",
      "unlike linear search where you need to look for a certain number or data in all indeces until you found out what you are looking for. It takes up a lot of time\n",
      "as it depends on what index the data you are searching for was located.I have learned that in binary search, every iteration equates to half of you search space\n",
      "as you divide it by half every time you iterate. This method is a simple mathematics which formula is n equals 2 raise to k. In addition, the time complexity of\n",
      "of binary search is k equals to the order of log(n) while in linear search the complexity of time is O(n) which means the order of n.After discussing the terms,\n",
      "I have obtained new knowledge on how to code linear and binary search. For linear search you just have to create a function where you used for loop inside it to\n",
      "look for a number and then you will put the list of your number and declare the number you are looking for and then call out the function you created and then\n",
      "return the index if you found the number. In coding for binay search, you will use while loop where you have to compare, as I have said in the first sentence in\n",
      "this discussion that you need to compare the left and right index from the middle index so that you can eliminate the parts lesser or greater than the value searched.\n"
     ]
    }
   ],
   "source": [
    "print(\"The video was all about Binary search in which you take the middle index value of the hundreds or thousands of data and compare it to the number you are\")\n",
    "print(\"searching for, if it is less than or greater than the middle index value if its greater than the middle value then you eliminate the middle value including\")\n",
    "print(\"all the elements lesser than it, and then you find another middle index value and you compare and it goes on until you eliminate other values and reach the\")\n",
    "print(\"data value that you are searching for.The thing about binary search is that it is efficient as it takes few moments to search for a certain data or transaction\") \n",
    "print(\"unlike linear search where you need to look for a certain number or data in all indeces until you found out what you are looking for. It takes up a lot of time\") \n",
    "print(\"as it depends on what index the data you are searching for was located.I have learned that in binary search, every iteration equates to half of you search space\")\n",
    "print(\"as you divide it by half every time you iterate. This method is a simple mathematics which formula is n equals 2 raise to k. In addition, the time complexity of\")\n",
    "print(\"of binary search is k equals to the order of log(n) while in linear search the complexity of time is O(n) which means the order of n.After discussing the terms,\")\n",
    "print(\"I have obtained new knowledge on how to code linear and binary search. For linear search you just have to create a function where you used for loop inside it to\")\n",
    "print(\"look for a number and then you will put the list of your number and declare the number you are looking for and then call out the function you created and then\")\n",
    "print(\"return the index if you found the number. In coding for binay search, you will use while loop where you have to compare, as I have said in the first sentence in\")\n",
    "print(\"this discussion that you need to compare the left and right index from the middle index so that you can eliminate the parts lesser or greater than the value that\")\n",
    "print(\"you are searching.I was amazed when the youtuber used a timeit decorator in order to show the difference of time complexity of the binary and linear search.In his\")\n",
    "print(\"example,the linear search took 31 millisecond while binary search took 0.0 millisecond. At the last part of the video he tried binary search using recursion and I\")\n",
    "print(\"have understood how it works as it simply does not use loops but instead uses if-else.\")\n"
   ]
  },
  {
   "cell_type": "code",
   "execution_count": 24,
   "id": "annoying-bunny",
   "metadata": {},
   "outputs": [
    {
     "name": "stdout",
     "output_type": "stream",
     "text": [
      "\t\t\t\t\tChapter 11\t\t\t\n",
      "\t\tDiscuss your learnings on Chapter 11. Minimum of 200 characters\t\n"
     ]
    }
   ],
   "source": [
    "print(\"\\t\\t\\t\\t\\tChapter 11\\t\\t\\t\")\n",
    "print(\"\\t\\tDiscuss your learnings on Chapter 11. Minimum of 200 characters\\t\")"
   ]
  },
  {
   "cell_type": "code",
   "execution_count": 29,
   "id": "convertible-quarterly",
   "metadata": {},
   "outputs": [
    {
     "name": "stdout",
     "output_type": "stream",
     "text": [
      "The video is all about one of the many sort method in python which is the bubble sort. In the bubble sort you only need to compare first the values at 0 index\n",
      "and in index 1. Then when you found out that value in index 0 is greater then you have swap its places with the index 1 and then compare it again but in index 2\n",
      "and so on. The swapping only stops when the value becomes lesser than the next index value you are comparing it to which means the value is already in it right\n",
      "position. The bubble sort method's time complexity is order of n squared while its space complexity is order of one. So it uses 1 because in bubble sort, it does\n",
      "add another value, it just sticks with the same array and just arrange it from least to greatest. After explaining the terms, I have learned how to implement the\n",
      "bubble sort in python as the video taught me how to properly code it. The youtuber taught me to create a fucntion then declare the size of the elements and then \n",
      "create another variable to swap the elements. After it, use the for loop to put the number with the biggest value at the end of the list. The great thing about it\n",
      "is that even if the code is incomplete, he would still run it so that the viewers can see the step-by-step process in the bubble sort code. In the completed code,\n",
      "he only added conditions answerable by true or false, and if the number is continuously swapping, its only means that the condition is true thus if it stops then\n",
      "the condition is false which is written in his code if it not swapped then break.\n"
     ]
    }
   ],
   "source": [
    "print(\"The video is all about one of the many sort method in python which is the bubble sort. In the bubble sort you only need to compare first the values at 0 index\")\n",
    "print(\"and in index 1. Then when you found out that value in index 0 is greater then you have swap its places with the index 1 and then compare it again but in index 2\")\n",
    "print(\"and so on. The swapping only stops when the value becomes lesser than the next index value you are comparing it to which means the value is already in it right\")\n",
    "print(\"position. The bubble sort method's time complexity is order of n squared while its space complexity is order of one. So it uses 1 because in bubble sort, it does\")\n",
    "print(\"add another value, it just sticks with the same array and just arrange it from least to greatest. After explaining the terms, I have learned how to implement the\")\n",
    "print(\"bubble sort in python as the video taught me how to properly code it. The youtuber taught me to create a fucntion then declare the size of the elements and then \")\n",
    "print(\"create another variable to swap the elements. After it, use the for loop to put the number with the biggest value at the end of the list. The great thing about it\") \n",
    "print(\"is that even if the code is incomplete, he would still run it so that the viewers can see the step-by-step process in the bubble sort code. In the completed code,\")\n",
    "print(\"he only added conditions answerable by true or false, and if the number is continuously swapping, its only means that the condition is true thus if it stops then\")\n",
    "print(\"the condition is false which is written in his code if it not swapped then break.\")"
   ]
  },
  {
   "cell_type": "code",
   "execution_count": 30,
   "id": "sophisticated-debut",
   "metadata": {},
   "outputs": [
    {
     "name": "stdout",
     "output_type": "stream",
     "text": [
      "\t\t\t\t\tChapter 12\t\t\t\n",
      "\t\tDiscuss your learnings on Chapter 12. Minimum of 200 characters\t\n"
     ]
    }
   ],
   "source": [
    "print(\"\\t\\t\\t\\t\\tChapter 12\\t\\t\\t\")\n",
    "print(\"\\t\\tDiscuss your learnings on Chapter 12. Minimum of 200 characters\\t\")"
   ]
  },
  {
   "cell_type": "code",
   "execution_count": 7,
   "id": "irish-cooperation",
   "metadata": {},
   "outputs": [
    {
     "name": "stdout",
     "output_type": "stream",
     "text": [
      "The topic discussed in Chapter 12 is called quick sort. When you say 'quick sort' it is a method where you divide and conquer, it is termed like that because\n",
      "it divides the elements int partitions and does the same method recursively. In quick sort, you make the first element of the list as pivot, and then place it\n",
      "in its right position where the elements in the righthand side were greater than it and the values at the lefthand side were lesser than the pivot. After that,\n",
      " I came to realize that it does the method repeatedly, you choose a pivot in the values at the left side and then you place it again at the right position same \n",
      "goes to the right side. you repeat the steps until the elements were sorted.I have learned that the placing of the pivot at the right position creates a partition\n",
      "between the left and right elements which makes it easier to sort. I have gained a knowdledge about partitioning and the two kinds of partition schemes: the Hoare\n",
      "and the Lomuto partition. The Hoare partition scheme was more popular and applied because Hoare was also the British scientist who invented quick sort so it is\n",
      "basically in his favor. I have found out that in Hoare partition, you must first look for the start and the end pointer. In finding the start pointer you must go\n",
      "through the elements one by one until you stumble into the element that is greater than the pivot-which is the first element of the list. On the contrary, the end\n",
      "pointer starts at the very end of the list and then look for the value that is lesser than the pivot. When you have found the start and the end pointer, you have\n",
      "to swap the both elements. This process will be repeated until the start and end pointer crosses over, if that happens, you need to swap the pivot and the value\n",
      "of the end pointer thus positioning the pivot at its right place. Meanwhile, when you say Lomuto partition,the pivot is thelast element of the list and then you\n",
      "need to find the p index which moves from the first element until it reaches a value that is greater than the pivot. When it reaches that value, it stops and\n",
      "introduces another counter which is called i, the i moves to find the value lesser than the pivot. When the p index and the i finds the values they are looking\n",
      "for, they have to undergo swapping so that they can move to find a value again, the process goes on and on until all the values at the righthand side is greater\n",
      "than the pivot.The average time complexity of this method is order of n log n and its worst case time complexity is order of n squared. At the last part of the\n",
      "video, I have learned how to code quick sort using while loop and if condition. It also declares the pivod index and I also learned how to declare a function to\n",
      "swap the elements.\n"
     ]
    }
   ],
   "source": [
    "print(\"The topic discussed in Chapter 12 is called quick sort. When you say 'quick sort' it is a method where you divide and conquer, it is termed like that because\")\n",
    "print(\"it divides the elements int partitions and does the same method recursively. In quick sort, you make the first element of the list as pivot, and then place it\")\n",
    "print(\"in its right position where the elements in the righthand side were greater than it and the values at the lefthand side were lesser than the pivot. After that,\")\n",
    "print(\" I came to realize that it does the method repeatedly, you choose a pivot in the values at the left side and then you place it again at the right position same \")\n",
    "print(\"goes to the right side. you repeat the steps until the elements were sorted.I have learned that the placing of the pivot at the right position creates a partition\")\n",
    "print(\"between the left and right elements which makes it easier to sort. I have gained a knowdledge about partitioning and the two kinds of partition schemes: the Hoare\")\n",
    "print(\"and the Lomuto partition. The Hoare partition scheme was more popular and applied because Hoare was also the British scientist who invented quick sort so it is\")\n",
    "print(\"basically in his favor. I have found out that in Hoare partition, you must first look for the start and the end pointer. In finding the start pointer you must go\")\n",
    "print(\"through the elements one by one until you stumble into the element that is greater than the pivot-which is the first element of the list. On the contrary, the end\")\n",
    "print(\"pointer starts at the very end of the list and then look for the value that is lesser than the pivot. When you have found the start and the end pointer, you have\")\n",
    "print(\"to swap the both elements. This process will be repeated until the start and end pointer crosses over, if that happens, you need to swap the pivot and the value\")\n",
    "print(\"of the end pointer thus positioning the pivot at its right place. Meanwhile, when you say Lomuto partition,the pivot is thelast element of the list and then you\")\n",
    "print(\"need to find the p index which moves from the first element until it reaches a value that is greater than the pivot. When it reaches that value, it stops and\")\n",
    "print(\"introduces another counter which is called i, the i moves to find the value lesser than the pivot. When the p index and the i finds the values they are looking\")\n",
    "print(\"for, they have to undergo swapping so that they can move to find a value again, the process goes on and on until all the values at the righthand side is greater\")\n",
    "print(\"than the pivot.The average time complexity of this method is order of n log n and its worst case time complexity is order of n squared. At the last part of the\")\n",
    "print(\"video, I have learned how to code quick sort using while loop and if condition. It also declares the pivod index and I also learned how to declare a function to\")\n",
    "print(\"swap the elements.\")\n"
   ]
  },
  {
   "cell_type": "code",
   "execution_count": 8,
   "id": "african-atmosphere",
   "metadata": {},
   "outputs": [
    {
     "name": "stdout",
     "output_type": "stream",
     "text": [
      "\t\t\t\t\tChapter 13\t\t\t\n",
      "\t\tDiscuss your learnings on Chapter 13. Minimum of 200 characters\t\n"
     ]
    }
   ],
   "source": [
    "print(\"\\t\\t\\t\\t\\tChapter 13\\t\\t\\t\")\n",
    "print(\"\\t\\tDiscuss your learnings on Chapter 13. Minimum of 200 characters\\t\")"
   ]
  },
  {
   "cell_type": "code",
   "execution_count": 22,
   "id": "aging-space",
   "metadata": {},
   "outputs": [
    {
     "name": "stdout",
     "output_type": "stream",
     "text": [
      "The video basically discusses about insertion sort. When you say insertion sort it means to insert elements from unsorted array into the sorted array. So the\n",
      "first thing you have to do is pick the first element from the unsorted array and then put it in the sorted array. After that, you proceed to the next element\n",
      "in the unsorted array and place it to its right position whether left side if it is lesser than the first element or right side if it is greater than the first\n",
      "element. The next element should be compared to the two elements in the sorted array so that you can finally place it where it belongs depending on its value.\n",
      "When you finally get to decide where to put it, then all you have to do is to insert it inside the sorted array. This process goes on to the other elements left\n",
      "until its all finally sorted. However, there is an easier way to do insertion sort without using another array. The youtuber in the video taught me how to do it\n",
      "the other way, it is through using a pointer to the first element, assuming that it is sorted already, you move to the next element, if its bigger than the first\n",
      "element, then consider it also as sorted. After that you must proceed to the third element and compare it to the first and second sorted element and if its lesser\n",
      "than the second element but greater than the first element then insert it between the first and third elements, thus it is now sorted.Then the next one is you \n",
      "must do the process again with all the following elements until it is now all sorted.The difference between the first method and the second one that was \n",
      "introducedis the fact that the second one does not need another sorted array, it just happens within the array and not to insert it into another sorted array. As\n",
      "usual, the youtuber taught me how to code the insertion sort. I have learned in insertion sort, you must use for-while loop. You must create your own function\n",
      "and then you should declare your variables and then create conditions inside the for-while loop. He also gave an example of different arrays being sorted.\n"
     ]
    }
   ],
   "source": [
    "print(\"The video basically discusses about insertion sort. When you say insertion sort it means to insert elements from unsorted array into the sorted array. So the\")\n",
    "print(\"first thing you have to do is pick the first element from the unsorted array and then put it in the sorted array. After that, you proceed to the next element\")\n",
    "print(\"in the unsorted array and place it to its right position whether left side if it is lesser than the first element or right side if it is greater than the first\")\n",
    "print(\"element. The next element should be compared to the two elements in the sorted array so that you can finally place it where it belongs depending on its value.\")\n",
    "print(\"When you finally get to decide where to put it, then all you have to do is to insert it inside the sorted array. This process goes on to the other elements left\")\n",
    "print(\"until its all finally sorted. However, there is an easier way to do insertion sort without using another array. The youtuber in the video taught me how to do it\")\n",
    "print(\"the other way, it is through using a pointer to the first element, assuming that it is sorted already, you move to the next element, if its bigger than the first\")\n",
    "print(\"element, then consider it also as sorted. After that you must proceed to the third element and compare it to the first and second sorted element and if its lesser\")\n",
    "print(\"than the second element but greater than the first element then insert it between the first and third elements, thus it is now sorted.Then the next one is you \")\n",
    "print(\"must do the process again with all the following elements until it is now all sorted.The difference between the first method and the second one that was \")\n",
    "print(\"introducedis the fact that the second one does not need another sorted array, it just happens within the array and not to insert it into another sorted array. As\")\n",
    "print(\"usual, the youtuber taught me how to code the insertion sort. I have learned in insertion sort, you must use for-while loop. You must create your own function\")\n",
    "print(\"and then you should declare your variables and then create conditions inside the for-while loop. He also gave an example of different arrays being sorted.\")"
   ]
  },
  {
   "cell_type": "code",
   "execution_count": 1,
   "id": "introductory-browse",
   "metadata": {},
   "outputs": [
    {
     "name": "stdout",
     "output_type": "stream",
     "text": [
      "\t\t\t\t\tChapter 14\t\t\t\n",
      "\t\tDiscuss your learnings on Chapter 14. Minimum of 200 characters\t\n"
     ]
    }
   ],
   "source": [
    "print(\"\\t\\t\\t\\t\\tChapter 14\\t\\t\\t\")\n",
    "print(\"\\t\\tDiscuss your learnings on Chapter 14. Minimum of 200 characters\\t\")"
   ]
  },
  {
   "cell_type": "code",
   "execution_count": 7,
   "id": "important-entry",
   "metadata": {},
   "outputs": [
    {
     "name": "stdout",
     "output_type": "stream",
     "text": [
      "On the first part of the video, I have learned how to turn two unsorted arrays into one sorted array, it was explained because it is definitely an overview of\n",
      "what is going to happen in the merge sort method. So the process basically is using 2 pointers which is directed at the first elements of the two unsorted array\n",
      "the values that were pointed were compared and the lesser one shall be placed inside the sorted array as the first element. Then you move the pointer to the left\n",
      "handside to compare another value again and the smaller one shall be placed again inside the sorted array, this process shall continue until the elements on both\n",
      "arrays are finally sorted.After explaining that easy process, the youtuber then introduced the merge sort method. I have learned that merge sort method is just\n",
      "like divide and conquer also, i think that it is called merge sort because an unsorted arrays wehere divided into parts and then merge at the end but this time\n",
      "though,it is sorted. So the first thing you have to do,is to divide the unsorted array into two parts, in our computer programming class though, it was mentioned\n",
      "when you divide odd number of elements in an array, the right side should have greater number of elements than that of the left. I think it is to avoid confusion.\n",
      "After dividing, you divide each parts again into two. Then you sort the elements in each part and then you merge it if its sorted already.As a result, you have\n",
      " now two sorted arrays, so all you have to do is to merge it, using the process that was explained in the first part of this discussion to achieve a sorted array.\n",
      "I have learned how important merge sort is as it is an algorithm used by the timsort which is a built-in sort method by python.The implementation of merge sort in\n",
      "the code was well- explained, I have learned that merge sort uses while loop, if else can also be applied inside the while loop for better results.\n"
     ]
    }
   ],
   "source": [
    "print(\"On the first part of the video, I have learned how to turn two unsorted arrays into one sorted array, it was explained because it is definitely an overview of\")\n",
    "print(\"what is going to happen in the merge sort method. So the process basically is using 2 pointers which is directed at the first elements of the two unsorted array\")\n",
    "print(\"the values that were pointed were compared and the lesser one shall be placed inside the sorted array as the first element. Then you move the pointer to the left\")\n",
    "print(\"handside to compare another value again and the smaller one shall be placed again inside the sorted array, this process shall continue until the elements on both\")\n",
    "print(\"arrays are finally sorted.After explaining that easy process, the youtuber then introduced the merge sort method. I have learned that merge sort method is just\")\n",
    "print(\"like divide and conquer also, i think that it is called merge sort because an unsorted arrays wehere divided into parts and then merge at the end but this time\")\n",
    "print(\"though,it is sorted. So the first thing you have to do,is to divide the unsorted array into two parts, in our computer programming class though, it was mentioned\")\n",
    "print(\"when you divide odd number of elements in an array, the right side should have greater number of elements than that of the left. I think it is to avoid confusion.\")\n",
    "print(\"After dividing, you divide each parts again into two. Then you sort the elements in each part and then you merge it if its sorted already.As a result, you have\")\n",
    "print(\" now two sorted arrays, so all you have to do is to merge it, using the process that was explained in the first part of this discussion to achieve a sorted array.\")\n",
    "print(\"I have learned how important merge sort is as it is an algorithm used by the timsort which is a built-in sort method by python.The implementation of merge sort in\")\n",
    "print(\"the code was well- explained, I have learned that merge sort uses while loop, if else can also be applied inside the while loop for better results.\")"
   ]
  },
  {
   "cell_type": "code",
   "execution_count": 8,
   "id": "impressive-desperate",
   "metadata": {},
   "outputs": [
    {
     "name": "stdout",
     "output_type": "stream",
     "text": [
      "\t\t\t\t\tChapter 15\t\t\t\n",
      "\t\tDiscuss your learnings on Chapter 15. Minimum of 200 characters\t\n"
     ]
    }
   ],
   "source": [
    "print(\"\\t\\t\\t\\t\\tChapter 15\\t\\t\\t\")\n",
    "print(\"\\t\\tDiscuss your learnings on Chapter 15. Minimum of 200 characters\\t\")"
   ]
  },
  {
   "cell_type": "code",
   "execution_count": 12,
   "id": "sealed-reliance",
   "metadata": {},
   "outputs": [
    {
     "name": "stdout",
     "output_type": "stream",
     "text": [
      "So the video discussed was about the shell sort. Compared to insertion sort where you need to make too many comparisons and swaps, shell short is a good\n",
      "sorting method and is solving all the issues on the insertion sort. So the shell sort method uses gap of 3 which means every third element inside the array,\n",
      "when i say every third element, I meant those elements that are in the 3rd count when you count 1,2,3 inside the array because as I have said, shell uses gap\n",
      " of 3. When you already found the value of these elements, you just have to sort these three through swapping their positions, after that, you repeat the process\n",
      "again and dont forget to take out the third values because the sole purpose of the gap of 3 is to make the sorting way easier and more faster than that of the\n",
      "insertion sort. You do the process until all the bigger elements are on the right handside. Now, you reduce the gap into two, by the way, I have learned that the\n",
      "the number of gaps you take depends on you but the goal in the end is to take a gap of one. So just like what happens in the gap of three, you have to sort the\n",
      "the values in every second element in counting for gap 2. I haven't mentioned it but the elements that are on the gaps are called sub arrays.When you have sorted\n",
      "all the elements in the gap two, now you are left with gap one. So I came to realize that gap one in shell sort is actually insertion sort, however, most of the\n",
      "elements are already sorted so there is no need to have too many comparisons and swaps.And I have understood how this sorting method is much more easier than \n",
      "insertion sort, as I have watched the video and the youtuber's examples.In code implementation, I have learned how to code shell sort using for loop.\n"
     ]
    }
   ],
   "source": [
    "print(\"So the video discussed was about the shell sort. Compared to insertion sort where you need to make too many comparisons and swaps, shell short is a good\")\n",
    "print(\"sorting method and is solving all the issues on the insertion sort. So the shell sort method uses gap of 3 which means every third element inside the array,\")\n",
    "print(\"when i say every third element, I meant those elements that are in the 3rd count when you count 1,2,3 inside the array because as I have said, shell uses gap\")\n",
    "print(\" of 3. When you already found the value of these elements, you just have to sort these three through swapping their positions, after that, you repeat the process\")\n",
    "print(\"again and dont forget to take out the third values because the sole purpose of the gap of 3 is to make the sorting way easier and more faster than that of the\")\n",
    "print(\"insertion sort. You do the process until all the bigger elements are on the right handside. Now, you reduce the gap into two, by the way, I have learned that the\")\n",
    "print(\"the number of gaps you take depends on you but the goal in the end is to take a gap of one. So just like what happens in the gap of three, you have to sort the\")\n",
    "print(\"the values in every second element in counting for gap 2. I haven't mentioned it but the elements that are on the gaps are called sub arrays.When you have sorted\")\n",
    "print(\"all the elements in the gap two, now you are left with gap one. So I came to realize that gap one in shell sort is actually insertion sort, however, most of the\")\n",
    "print(\"elements are already sorted so there is no need to have too many comparisons and swaps.And I have understood how this sorting method is much more easier than \")\n",
    "print(\"insertion sort, as I have watched the video and the youtuber's examples.In code implementation, I have learned how to code shell sort using for loop.\")"
   ]
  },
  {
   "cell_type": "code",
   "execution_count": 13,
   "id": "fitted-modern",
   "metadata": {},
   "outputs": [
    {
     "name": "stdout",
     "output_type": "stream",
     "text": [
      "\t\t\t\t\tChapter 16\t\t\t\n",
      "\t\tDiscuss your learnings on Chapter 16. Minimum of 200 characters\t\n"
     ]
    }
   ],
   "source": [
    "print(\"\\t\\t\\t\\t\\tChapter 16\\t\\t\\t\")\n",
    "print(\"\\t\\tDiscuss your learnings on Chapter 16. Minimum of 200 characters\\t\")"
   ]
  },
  {
   "cell_type": "code",
   "execution_count": 16,
   "id": "removed-baltimore",
   "metadata": {},
   "outputs": [
    {
     "name": "stdout",
     "output_type": "stream",
     "text": [
      "The topic discussed for the chapter 16 is the selection sort. This type of sorting method is quite very easy. In selection sort, all you have to do is to is\n",
      "find the element that has the smallest value and place it in its position respectively.SO the first thing to do is to find a number that can be placed in the\n",
      "first index, it only means that you must pick an element that has the smallest value, and when you have found it, you swap the position of the smallest value\n",
      "and the first element in the array. After that, the element in the first index is sorted already so you must look for the second element which is the element\n",
      "that has the second minimum value, and then the same thing will happen if you finally figure out what element it is, you swap and now there are already two\n",
      "sorted elements. The next step is to find the third element that has the third lowest value, and the same process should be done until all the elements are\n",
      "sorted. Among the sort method, I find this the easiest but not until you implement it in python code, it is kind of hard. The youtuber taught me that the Big\n",
      "O complexity of these sort method is order of n squared. I have found out that this method is uneffiecient when you are implementing it in the code because you\n",
      "use two for loops. After the explanation of terms, the youtuber demonstrated how to properly code the selection sort through nested for loops, I came to realize\n",
      "how complicated the code is.\n"
     ]
    }
   ],
   "source": [
    "print(\"The topic discussed for the chapter 16 is the selection sort. This type of sorting method is quite very easy. In selection sort, all you have to do is to is\")\n",
    "print(\"find the element that has the smallest value and place it in its position respectively.SO the first thing to do is to find a number that can be placed in the\")\n",
    "print(\"first index, it only means that you must pick an element that has the smallest value, and when you have found it, you swap the position of the smallest value\")\n",
    "print(\"and the first element in the array. After that, the element in the first index is sorted already so you must look for the second element which is the element\")\n",
    "print(\"that has the second minimum value, and then the same thing will happen if you finally figure out what element it is, you swap and now there are already two\")\n",
    "print(\"sorted elements. The next step is to find the third element that has the third lowest value, and the same process should be done until all the elements are\")\n",
    "print(\"sorted. Among the sort method, I find this the easiest but not until you implement it in python code, it is kind of hard. The youtuber taught me that the Big\")\n",
    "print(\"O complexity of these sort method is order of n squared. I have found out that this method is uneffiecient when you are implementing it in the code because you\")\n",
    "print(\"use two for loops. After the explanation of terms, the youtuber demonstrated how to properly code the selection sort through nested for loops, I came to realize\")\n",
    "print(\"how complicated the code is.\")"
   ]
  },
  {
   "cell_type": "code",
   "execution_count": 18,
   "id": "running-database",
   "metadata": {},
   "outputs": [
    {
     "name": "stdout",
     "output_type": "stream",
     "text": [
      "\t\t\t\t\tChapter 17\t\t\t\n",
      "\t\tDiscuss your learnings on Chapter 17. Minimum of 200 characters\t\n"
     ]
    }
   ],
   "source": [
    "print(\"\\t\\t\\t\\t\\tChapter 17\\t\\t\\t\")\n",
    "print(\"\\t\\tDiscuss your learnings on Chapter 17. Minimum of 200 characters\\t\")"
   ]
  },
  {
   "cell_type": "code",
   "execution_count": 23,
   "id": "minor-cable",
   "metadata": {},
   "outputs": [
    {
     "name": "stdout",
     "output_type": "stream",
     "text": [
      "The discussion video for chapter 17 is all about recursion. Among the video, this is what I have enjoyed the most as it seriously explained the recursion in\n",
      "in simplest terms.In the video the youtuber gave an example of recursion applied in a real life situation like lining up to order at a pizzeria. He explained\n",
      "how the owner of the pizzeria would give them breads because he thought that the customers are bored while waiting for their pizza, the last one on the line has\n",
      "the more breads because the last one might die from boredom because she is the last one in the line. So as explained in the video I have understood how recursion\n",
      "works. It solves a problem using a base condition. In the pizzeria example, the owner announced that he will give ten percent discount for those who can give him \n",
      "the total number of bread all the customers have With that the last one on the line asked the person before her how much is her total number of bread so that, she\n",
      "can add her number of bread to the total and she can have the ten percent discount. The person before her found put that her idea was a great one, she applied it\n",
      "to his strategy as well, until all of the person did her strategy and they all come up with a result which is much easier without manually counting all of the\n",
      "breads. The base condition is the answer or solution to the first problem which is the same answer that you pass through the chain in order to solve all the\n",
      "problems. In thiscase, you technically divided the problem into simple problem because just like in the given example, you only need to do your part which is add\n",
      "your total number of bread to the sum of the total of bread given by the person before you. It like a teamwork. I have learned that in solving a problem you do\n",
      "first the base condition,like adding sum of numbers in a specific range the first step in the summation is the base condition, after adding that, you roll back\n",
      "the answer to solve the sub problems which are looking for the sum on the remaining number inside the range. So in implementing the code for recursion in python,\n",
      "you need to consider the two criterias: the repetitive task that is done to reduce the problem and the base condition. As what the youtuber have shown in the\n",
      "video, I have learned that in recursion, you have to use if-else condition to solve the problem you have programmed in the python code.\n"
     ]
    }
   ],
   "source": [
    "print(\"The discussion video for chapter 17 is all about recursion. Among the video, this is what I have enjoyed the most as it seriously explained the recursion in\")\n",
    "print(\"in simplest terms.In the video the youtuber gave an example of recursion applied in a real life situation like lining up to order at a pizzeria. He explained\")\n",
    "print(\"how the owner of the pizzeria would give them breads because he thought that the customers are bored while waiting for their pizza, the last one on the line has\")\n",
    "print(\"the more breads because the last one might die from boredom because she is the last one in the line. So as explained in the video I have understood how recursion\")\n",
    "print(\"works. It solves a problem using a base condition. In the pizzeria example, the owner announced that he will give ten percent discount for those who can give him \")\n",
    "print(\"the total number of bread all the customers have With that the last one on the line asked the person before her how much is her total number of bread so that, she\")\n",
    "print(\"can add her number of bread to the total and she can have the ten percent discount. The person before her found put that her idea was a great one, she applied it\")\n",
    "print(\"to his strategy as well, until all of the person did her strategy and they all come up with a result which is much easier without manually counting all of the\")\n",
    "print(\"breads. The base condition is the answer or solution to the first problem which is the same answer that you pass through the chain in order to solve all the\")\n",
    "print(\"problems. In thiscase, you technically divided the problem into simple problem because just like in the given example, you only need to do your part which is add\")\n",
    "print(\"your total number of bread to the sum of the total of bread given by the person before you. It like a teamwork. I have learned that in solving a problem you do\")\n",
    "print(\"first the base condition,like adding sum of numbers in a specific range the first step in the summation is the base condition, after adding that, you roll back\")\n",
    "print(\"the answer to solve the sub problems which are looking for the sum on the remaining number inside the range. So in implementing the code for recursion in python,\")\n",
    "print(\"you need to consider the two criterias: the repetitive task that is done to reduce the problem and the base condition. As what the youtuber have shown in the\")\n",
    "print(\"video, I have learned that in recursion, you have to use if-else condition to solve the problem you have programmed in the python code.\")"
   ]
  },
  {
   "cell_type": "code",
   "execution_count": 24,
   "id": "fuzzy-search",
   "metadata": {},
   "outputs": [
    {
     "name": "stdout",
     "output_type": "stream",
     "text": [
      "II.Answer the following questions:\t\n"
     ]
    }
   ],
   "source": [
    "print(\"II.Answer the following questions:\\t\")"
   ]
  },
  {
   "cell_type": "code",
   "execution_count": 29,
   "id": "precise-collector",
   "metadata": {},
   "outputs": [
    {
     "name": "stdout",
     "output_type": "stream",
     "text": [
      "1. Implement the simple methods get_num and get_den that will return the numerator and denominator of a fraction.\n"
     ]
    }
   ],
   "source": [
    "print(\"1. Implement the simple methods get_num and get_den that will return the numerator and denominator of a fraction.\")"
   ]
  },
  {
   "cell_type": "code",
   "execution_count": 1,
   "id": "defensive-station",
   "metadata": {},
   "outputs": [
    {
     "name": "stdout",
     "output_type": "stream",
     "text": [
      "4/5\n",
      "4\n",
      "5\n"
     ]
    }
   ],
   "source": [
    "class Fraction:\n",
    "\n",
    "    def __init__(self, top, bottom):\n",
    "\n",
    "        self.num = top       \n",
    "        self.den = bottom  \n",
    "\n",
    "    def __str__(self):\n",
    "        return str(self.num) + \"/\" + str(self.den)\n",
    "\n",
    "    def getNum(self):\n",
    "        return self.num\n",
    "\n",
    "    def getDen(self):\n",
    "        return self.den\n",
    "\n",
    "myfraction = Fraction(4, 5)\n",
    "print(myfraction)\n",
    "\n",
    "print(myfraction.getNum())\n",
    "print(myfraction.getDen())"
   ]
  },
  {
   "cell_type": "code",
   "execution_count": 30,
   "id": "northern-drawing",
   "metadata": {},
   "outputs": [
    {
     "name": "stdout",
     "output_type": "stream",
     "text": [
      "2. Research the __radd__ method. How does it differ from __add__? When is it used? Implement __radd__\n"
     ]
    }
   ],
   "source": [
    "print(\"2. Research the __radd__ method. How does it differ from __add__? When is it used? Implement __radd__\")"
   ]
  },
  {
   "cell_type": "code",
   "execution_count": 21,
   "id": "medical-lender",
   "metadata": {},
   "outputs": [
    {
     "name": "stdout",
     "output_type": "stream",
     "text": [
      "Through __add__ method, we can control the sum of two objects, however,the __radd__ is only called if the left object does not have an __add__ method, or that\n",
      "method does not know how to add the two objects (which it flags by returning NotImplemented).\n",
      "15\n"
     ]
    }
   ],
   "source": [
    "print(\"Through __add__ method, we can control the sum of two objects, however,the __radd__ is only called if the left object does not have an __add__ method, or that\")\n",
    "print(\"method does not know how to add the two objects (which it flags by returning NotImplemented).\")\n",
    "\n",
    "class Num0:\n",
    "        def __init__(self, value):\n",
    "          self.value = value\n",
    "\n",
    "class Num1:\n",
    "        def __init__(self, value):\n",
    "          self.value = value\n",
    "\n",
    "        def __radd__(self, other):\n",
    "          return self.value + other.value\n",
    "\n",
    "c = Num0(5)\n",
    "d = Num1(10)\n",
    "\n",
    "print(c + d)"
   ]
  },
  {
   "cell_type": "code",
   "execution_count": 28,
   "id": "aquatic-wrong",
   "metadata": {},
   "outputs": [
    {
     "name": "stdout",
     "output_type": "stream",
     "text": [
      "3. Research the __repr__ method. How does it differ from __str__? When is it used? Implement __repr__.\n"
     ]
    }
   ],
   "source": [
    "print(\"3. Research the __repr__ method. How does it differ from __str__? When is it used? Implement __repr__.\")"
   ]
  },
  {
   "cell_type": "code",
   "execution_count": 15,
   "id": "unlimited-astronomy",
   "metadata": {},
   "outputs": [
    {
     "name": "stdout",
     "output_type": "stream",
     "text": [
      "The __repr__ method is called by the builtin function repr and is what is echoed on your python shell when it evaluates an expression that returns an object.\n",
      "The difference with repr(object) is that str(object) does not always attempt to return a string that is acceptable to eval(); its goal is to return a printable\n",
      "string.\n",
      "I want to represent the Fraction STRING as (1/2)\n",
      "I want to represent the Fraction OBJECT as  Fraction (1,2)\n"
     ]
    }
   ],
   "source": [
    "print(\"The __repr__ method is called by the builtin function repr and is what is echoed on your python shell when it evaluates an expression that returns an object.\")\n",
    "print(\"The difference with repr(object) is that str(object) does not always attempt to return a string that is acceptable to eval(); its goal is to return a printable\") \n",
    "print(\"string.\")\n",
    "class Fraction:\n",
    "    def __init__(self, num, den):\n",
    "        self.__num = num\n",
    "        self.__den = den\n",
    "\n",
    "    def __str__(self):\n",
    "        return '(' + str(self.__num) + '/' + str(self.__den) + ')'\n",
    "\n",
    "    def __repr__(self):\n",
    "        return 'Fraction (' + str(self.__num) + ',' + str(self.__den) + ')'\n",
    "\n",
    "\n",
    "\n",
    "f = Fraction(1,2)\n",
    "print('I want to represent the Fraction STRING as ' + str(f)) # (1/2)\n",
    "print('I want to represent the Fraction OBJECT as ', repr(f)) # Fraction (1,2)\n"
   ]
  },
  {
   "cell_type": "code",
   "execution_count": 31,
   "id": "executed-joshua",
   "metadata": {},
   "outputs": [
    {
     "name": "stdout",
     "output_type": "stream",
     "text": [
      "4. The most simple arithmetic circuit is known as the half adder. Research the simple half-adder circuit. Implement this circuit.\n"
     ]
    }
   ],
   "source": [
    " print(\"4. The most simple arithmetic circuit is known as the half adder. Research the simple half-adder circuit. Implement this circuit.\")"
   ]
  },
  {
   "cell_type": "code",
   "execution_count": 15,
   "id": "automotive-advertising",
   "metadata": {},
   "outputs": [
    {
     "name": "stdout",
     "output_type": "stream",
     "text": [
      "Sum  1\n",
      "Carry 0\n"
     ]
    }
   ],
   "source": [
    "# Function to print sum and carry\n",
    "def getResult(D, E):\n",
    "    \n",
    "    # Calculating value of sum\n",
    "    Sum = D ^ E\n",
    "      \n",
    "    # Calculating value of Carry\n",
    "    Carry = D & E\n",
    "      \n",
    "    # printing the values\n",
    "    print(\"Sum \", Sum)\n",
    "    print(\"Carry\", Carry)\n",
    "  \n",
    "  \n",
    "# Driver code\n",
    "D = 0\n",
    "E = 1\n",
    "  \n",
    "# passing two inputs of halfadder as arguements to get result function\n",
    "getResult(D, E)"
   ]
  },
  {
   "cell_type": "code",
   "execution_count": 34,
   "id": "quick-healthcare",
   "metadata": {},
   "outputs": [
    {
     "name": "stdout",
     "output_type": "stream",
     "text": [
      "5. Design a class to represent a playing card and another one to represent a deck of cards. Using these two classes, implement your favorite card game.\n"
     ]
    }
   ],
   "source": [
    "print(\"5. Design a class to represent a playing card and another one to represent a deck of cards. Using these two classes, implement your favorite card game.\")"
   ]
  },
  {
   "cell_type": "code",
   "execution_count": 6,
   "id": "latter-spray",
   "metadata": {},
   "outputs": [
    {
     "name": "stdout",
     "output_type": "stream",
     "text": [
      "Card(value=1, suit='hearts')\n",
      "1 hearts\n"
     ]
    }
   ],
   "source": [
    "from collections import namedtuple\n",
    "\n",
    "Card = namedtuple('Card', ['value', 'suit'])\n",
    "suits = ['hearts', 'diamonds', 'spades', 'clubs']\n",
    "cards = [Card(value, suit) for value in range(1, 14) for suit in suits]\n",
    "\n",
    "\n",
    "print(cards[0])\n",
    "print(cards[0].value, cards[0].suit)\n"
   ]
  },
  {
   "cell_type": "code",
   "execution_count": 36,
   "id": "amino-hungarian",
   "metadata": {},
   "outputs": [
    {
     "name": "stdout",
     "output_type": "stream",
     "text": [
      "6. Design and implement an experiment to do benchmark comparisons of the two queue(enqueue,dequeue) implementations. What can you learn from such an experiment?\n",
      "\t\tCreate a program code using enqueue and dequeue then compare.\n"
     ]
    }
   ],
   "source": [
    "print(\"6. Design and implement an experiment to do benchmark comparisons of the two queue(enqueue,dequeue) implementations. What can you learn from such an experiment?\")\n",
    "print(\"\\t\\tCreate a program code using enqueue and dequeue then compare.\")"
   ]
  },
  {
   "cell_type": "code",
   "execution_count": 28,
   "id": "corresponding-penalty",
   "metadata": {},
   "outputs": [
    {
     "name": "stdout",
     "output_type": "stream",
     "text": [
      "After the experiment, I have learned that enqueue adds an element at the end of the queue while dequeue removes an item at the front of the queue.It was \n",
      "pretty obvious by how the results in my experimentation are very different.\n",
      "Enqueued 50 to give [50]\n",
      "Enqueued 40 to give [50, 40]\n",
      "Dequeued 50 to give [40]\n",
      "Enqueued 10 to give [40, 10]\n",
      "Enqueued 60 to give [40, 10, 60]\n",
      "========\n",
      "Dequeued 40 to give [10, 60]\n",
      "Dequeued 10 to give [60]\n",
      "Dequeued 60 to give []\n"
     ]
    }
   ],
   "source": [
    "print(\"After the experiment, I have learned that enqueue adds an element at the end of the queue while dequeue removes an item at the front of the queue.It was \")\n",
    "print(\"pretty obvious by how the results in my experimentation are very different.\")\n",
    "import random\n",
    "\n",
    "def enqueue(lst, item):\n",
    "    lst.append(item)        # Just add item to end of list.\n",
    "    return lst             # And return list (for consistency with dequeue).\n",
    "\n",
    "def dequeue(lst):\n",
    "    item = lst[0]           # Grab the first item in list.\n",
    "    lst = lst[1:]          # Change list to remove first item.\n",
    "    return (item, lst)      # Then return item and new list.\n",
    "\n",
    "\n",
    "List = []\n",
    "\n",
    "\n",
    "for _ in range(5):\n",
    "    if random.randint(0, 9) == 0 and len(List) > 0:\n",
    "        (item, List) = dequeue(List)\n",
    "        print(f\"Dequeued {item} to give {List}\")\n",
    "    else:\n",
    "        item = 10 * random.randint(1, 9)\n",
    "        List = enqueue(List, item)\n",
    "        print(f\"Enqueued {item} to give {List}\")\n",
    "\n",
    "# Now dequeue remainder of list.\n",
    "\n",
    "print(\"========\")\n",
    "while len(List) > 0:\n",
    "    (item, List) = dequeue(List)\n",
    "    print(f\"Dequeued {item} to give {List}\")"
   ]
  },
  {
   "cell_type": "code",
   "execution_count": 4,
   "id": "intermediate-smart",
   "metadata": {},
   "outputs": [
    {
     "name": "stdout",
     "output_type": "stream",
     "text": [
      "7. Consider a real life situation. Formulate a question and then design a simulation that can help to answer it. Possible situations include:\n",
      " a.Cars lined up at a car wash\n",
      " b.Customers at a grocery store check-out\n",
      " c.Airplanes taking off and landing on a runway\n",
      " d.A bank teller\n",
      "Be sure to state any assumptions that you make and provide any probabilistic data that must be considered as part of the scenario.No more coding for this item,\n",
      "just explanation.\n"
     ]
    }
   ],
   "source": [
    "print(\"7. Consider a real life situation. Formulate a question and then design a simulation that can help to answer it. Possible situations include:\")\n",
    "print(\" a.Cars lined up at a car wash\\n b.Customers at a grocery store check-out\\n c.Airplanes taking off and landing on a runway\\n d.A bank teller\")\n",
    "print(\"Be sure to state any assumptions that you make and provide any probabilistic data that must be considered as part of the scenario.No more coding for this item,\")\n",
    "print(\"just explanation.\")"
   ]
  },
  {
   "cell_type": "code",
   "execution_count": 51,
   "id": "mathematical-brown",
   "metadata": {},
   "outputs": [
    {
     "name": "stdout",
     "output_type": "stream",
     "text": [
      "a.Which car will be the first one to get washed?\n",
      "Obviously, the first one to get washed was the first one in line, followed by the next in line following the FIFO (First-In-First-Out) strategy,\n",
      "however, there are some things that we need to consider, we need to assume the the number of customers coming for car wash is infinite and that the\n",
      "service time is dependent to how fast the machine washes the car.\n",
      "\n",
      "b.In which counter has most of the grocery checkouts done?\n",
      "Considering that there are 3 counters for checkouts, assuming that there are 10 customers in each counter but when the first counter did the checkouts more faster\n",
      "half of the customer transferred in from their lane into the first counter. You see, the faster your service is, more work gets done. This queue discipline follows\n",
      "the Shortest processing time first (SPT) strategy where the customers transferred to the first counter because they want their checkouts done in a minute.\n",
      "\n",
      "c.Which flight will take off first?\n",
      "There are few things that you must consider in analysing this question, the number of passengers and the arrival pattern of the passengers, it is impotant\n",
      "because you can found out which flight they are taking through their arrival time, if they came early then, they might take off first. The arrival of the other\n",
      "should also be considered to clear the runaway. Clearly airports uses the FIFO (First-In-First-Out) strategy, but sometimes it depends on the priority if there is\n",
      "a delay in some flights.\n",
      "\n",
      "d.In which bank teller desk number were you assigned?\n",
      "In going to banks, you must have customer number so that you can be assigned to a number where you can talk to the bank teller. This problem can be solved through\n",
      "FIFO (First-In-First-Out) strategy however, there are some things that we must consider as the service time may vary from each bank teller also the number of\n",
      "people.There are also senior citizens which gets the Service according to priority (PR)strategy because they are indeed in anotherset of priority numbers.\n"
     ]
    }
   ],
   "source": [
    "print(\"a.Which car will be the first one to get washed?\")\n",
    "print(\"Obviously, the first one to get washed was the first one in line, followed by the next in line following the FIFO (First-In-First-Out) strategy,\")\n",
    "print(\"however, there are some things that we need to consider, we need to assume the the number of customers coming for car wash is infinite and that the\")\n",
    "print(\"service time is dependent to how fast the machine washes the car.\")\n",
    "print(\"\\nb.In which counter has most of the grocery checkouts done?\")\n",
    "print(\"Considering that there are 3 counters for checkouts, assuming that there are 10 customers in each counter but when the first counter did the checkouts more faster\")\n",
    "print(\"half of the customer transferred in from their lane into the first counter. You see, the faster your service is, more work gets done. This queue discipline follows\")\n",
    "print(\"the Shortest processing time first (SPT) strategy where the customers transferred to the first counter because they want their checkouts done in a minute.\")\n",
    "print(\"\\nc.Which flight will take off first?\")\n",
    "print(\"There are few things that you must consider in analysing this question, the number of passengers and the arrival pattern of the passengers, it is impotant\")\n",
    "print(\"because you can found out which flight they are taking through their arrival time, if they came early then, they might take off first. The arrival of the other\")\n",
    "print(\"should also be considered to clear the runaway. Clearly airports uses the FIFO (First-In-First-Out) strategy, but sometimes it depends on the priority if there is\")\n",
    "print(\"a delay in some flights.\")\n",
    "print(\"\\nd.In which bank teller desk number were you assigned?\")\n",
    "print(\"In going to banks, you must have customer number so that you can be assigned to a number where you can talk to the bank teller. This problem can be solved through\")\n",
    "print(\"FIFO (First-In-First-Out) strategy however, there are some things that we must consider as the service time may vary from each bank teller also the number of\")\n",
    "print(\"people.There are also senior citizens which gets the Service according to priority (PR)strategy because they are indeed in another set of priority numbers.\")"
   ]
  },
  {
   "cell_type": "code",
   "execution_count": 40,
   "id": "inclusive-procurement",
   "metadata": {},
   "outputs": [
    {
     "name": "stdout",
     "output_type": "stream",
     "text": [
      "8. Implement a queue using linked lists.\n"
     ]
    }
   ],
   "source": [
    "print(\"8. Implement a queue using linked lists.\")"
   ]
  },
  {
   "cell_type": "code",
   "execution_count": 22,
   "id": "attended-bobby",
   "metadata": {},
   "outputs": [
    {
     "name": "stdout",
     "output_type": "stream",
     "text": [
      "Queue Front 40\n",
      "Queue Rear 50\n"
     ]
    }
   ],
   "source": [
    "class Node:\n",
    "      \n",
    "    def __init__(self, data):\n",
    "        self.data = data\n",
    "        self.next = None\n",
    "\n",
    "class Queue:\n",
    "      \n",
    "    def __init__(self):\n",
    "        self.front = self.rear = None\n",
    "  \n",
    "    def isEmpty(self):\n",
    "        return self.front == None\n",
    "      \n",
    "    # Method to add an item to the queue\n",
    "    def EnQueue(self, item):\n",
    "        temp = Node(item)\n",
    "          \n",
    "        if self.rear == None:\n",
    "            self.front = self.rear = temp\n",
    "            return\n",
    "        self.rear.next = temp\n",
    "        self.rear = temp\n",
    "  \n",
    "    # Method to remove an item from queue\n",
    "    def DeQueue(self):\n",
    "          \n",
    "        if self.isEmpty():\n",
    "            return\n",
    "        temp = self.front\n",
    "        self.front = temp.next\n",
    "  \n",
    "        if(self.front == None):\n",
    "            self.rear = None\n",
    "  \n",
    "# Driver Code\n",
    "if __name__== '__main__':\n",
    "    q = Queue()\n",
    "    q.EnQueue(10)\n",
    "    q.EnQueue(20)\n",
    "    q.DeQueue()\n",
    "    q.DeQueue()\n",
    "    q.EnQueue(30)\n",
    "    q.EnQueue(40)\n",
    "    q.EnQueue(50) \n",
    "    q.DeQueue()   \n",
    "    print(\"Queue Front \" + str(q.front.data))\n",
    "    print(\"Queue Rear \" + str(q.rear.data))"
   ]
  },
  {
   "cell_type": "code",
   "execution_count": 14,
   "id": "hispanic-sailing",
   "metadata": {},
   "outputs": [
    {
     "name": "stdout",
     "output_type": "stream",
     "text": [
      "9. Write a recursive function to compute the factorial of a number.\n"
     ]
    }
   ],
   "source": [
    "print(\"9. Write a recursive function to compute the factorial of a number.\")"
   ]
  },
  {
   "cell_type": "code",
   "execution_count": 11,
   "id": "aboriginal-nation",
   "metadata": {},
   "outputs": [
    {
     "name": "stdin",
     "output_type": "stream",
     "text": [
      "Enter a number:  23\n"
     ]
    },
    {
     "name": "stdout",
     "output_type": "stream",
     "text": [
      "The factorial of 23 is 25852016738884976640000\n"
     ]
    }
   ],
   "source": [
    "def recursionfactorial(n):  \n",
    "   if a == 1:  \n",
    "       return a  \n",
    "   else:  \n",
    "       return a*recursionfactorial(n-1)  \n",
    "# take input from the user  \n",
    "number = int(input(\"Enter a number: \"))  \n",
    "# check is the number is negative  \n",
    "if number < 0:  \n",
    "   print(\"Sorry, factorial does not exist for negative numbers\")  \n",
    "elif number == 0:  \n",
    "   print(\"The factorial of 0 is 1\")  \n",
    "else:  \n",
    "   print(\"The factorial of\",number,\"is\",recur_factorial(number))  "
   ]
  },
  {
   "cell_type": "code",
   "execution_count": 42,
   "id": "threaded-heading",
   "metadata": {},
   "outputs": [
    {
     "name": "stdout",
     "output_type": "stream",
     "text": [
      "10.Set up a random experiment to test the difference between a sequential search and a binary search on a list of integers.\n"
     ]
    }
   ],
   "source": [
    "print(\"10.Set up a random experiment to test the difference between a sequential search and a binary search on a list of integers.\")"
   ]
  },
  {
   "cell_type": "code",
   "execution_count": 46,
   "id": "published-minister",
   "metadata": {},
   "outputs": [
    {
     "name": "stdout",
     "output_type": "stream",
     "text": [
      "SEQUENTIAL SEARCH\n",
      "(True, 1)\n",
      "BINARY SEARCH\n",
      "Element is present at index 3\n",
      "\n",
      "\n",
      "As you can see from the codes above, the sequential search makes n comparisons, meaning the number of iterations depends on the number of items as it simply\n",
      "goes from each elements to find the item. On the contrary,binary search is starting its comparisons at the middle element to make it much faster and easier. \n"
     ]
    }
   ],
   "source": [
    "print(\"SEQUENTIAL SEARCH\")\n",
    "def SequentialSearch(dlist, item):\n",
    "\n",
    "    pos = 0\n",
    "    found = False\n",
    "    \n",
    "    while pos < len(dlist) and not found:\n",
    "        if dlist[pos] == item:\n",
    "            found = True\n",
    "        else:\n",
    "            pos = pos + 1\n",
    "    \n",
    "    return found, pos\n",
    "\n",
    "print(SequentialSearch([12,33,68,41,66,87,43,15,65,19],33))\n",
    "\n",
    "\n",
    "print(\"BINARY SEARCH\")\n",
    "def binary_search(arr, low, high, x):\n",
    " \n",
    "    if high >= low:\n",
    " \n",
    "        mid = (high + low) // 2\n",
    " \n",
    "        if arr[mid] == x:\n",
    "            return mid\n",
    "\n",
    "        elif arr[mid] > x:\n",
    "            return binary_search(arr, low, mid - 1, x)\n",
    "\n",
    "        else:\n",
    "            return binary_search(arr, mid + 1, high, x)\n",
    " \n",
    "    else:\n",
    "        return -1\n",
    " \n",
    "# Test array\n",
    "arr = [ 1, 4, 5, 12, 50 ]\n",
    "x = 12\n",
    "\n",
    "result = binary_search(arr, 0, len(arr)-1, x)\n",
    " \n",
    "if result != -1:\n",
    "    print(\"Element is present at index\", str(result))\n",
    "else:\n",
    "    print(\"Element is not present in array\")\n",
    "\n",
    "    \n",
    "print(\"\\n\\nAs you can see from the codes above, the sequential search makes n comparisons, meaning the number of iterations depends on the number of items as it simply\")\n",
    "print(\"goes from each elements to find the item. On the contrary,binary search is starting its comparisons at the middle element to make it much faster and easier. \")"
   ]
  },
  {
   "cell_type": "code",
   "execution_count": 34,
   "id": "vietnamese-salon",
   "metadata": {},
   "outputs": [
    {
     "name": "stdout",
     "output_type": "stream",
     "text": [
      "11. Suppose you are a computer scientist/art thief who has broken into a major art gallery. All you have with you to haul out your stolen art is your knapsack\n",
      "which only holds W pounds of art, but for every piece of art you know its value and its weight. Write a dynamic programming function to help you maximize your\n",
      "profit. Here is a sample problem for you to use to get started: Suppose your knapsack can hold a total weight of 20. \n"
     ]
    }
   ],
   "source": [
    "print(\"11. Suppose you are a computer scientist/art thief who has broken into a major art gallery. All you have with you to haul out your stolen art is your knapsack\")\n",
    "print(\"which only holds W pounds of art, but for every piece of art you know its value and its weight. Write a dynamic programming function to help you maximize your\")\n",
    "print(\"profit.Here is a sample problem for you to use to get started: Suppose your knapsack can hold a total weight of 20. \")"
   ]
  },
  {
   "cell_type": "code",
   "execution_count": 43,
   "id": "confirmed-blackberry",
   "metadata": {},
   "outputs": [
    {
     "name": "stdout",
     "output_type": "stream",
     "text": [
      "29\n"
     ]
    }
   ],
   "source": [
    "def knapSack(W, weight, value, maximum):\n",
    "   K = [[0 for x in range(W + 1)] for x in range(n + 1)]\n",
    " \n",
    "   for i in range(n + 1):\n",
    "      for w in range(W + 1):\n",
    "         if i == 0 or w == 0:\n",
    "            K[i][w] = 0\n",
    "         elif wt[i-1] <= w:\n",
    "            K[i][w] = max(val[i-1] + K[i-1][w-wt[i-1]], K[i-1][w])\n",
    "         else:\n",
    "            K[i][w] = K[i-1][w]\n",
    "   return K[n][W]\n",
    "#Main\n",
    "value = [3,4,8,8,10]\n",
    "weight = [2,3,4,5,9]\n",
    "W = 20\n",
    "maximum = len(val)\n",
    "print(knapSack(W, wt, val, n))\n",
    "\n"
   ]
  },
  {
   "cell_type": "code",
   "execution_count": null,
   "id": "weekly-poker",
   "metadata": {},
   "outputs": [],
   "source": []
  }
 ],
 "metadata": {
  "kernelspec": {
   "display_name": "Python 3",
   "language": "python",
   "name": "python3"
  },
  "language_info": {
   "codemirror_mode": {
    "name": "ipython",
    "version": 3
   },
   "file_extension": ".py",
   "mimetype": "text/x-python",
   "name": "python",
   "nbconvert_exporter": "python",
   "pygments_lexer": "ipython3",
   "version": "3.9.2"
  }
 },
 "nbformat": 4,
 "nbformat_minor": 5
}
